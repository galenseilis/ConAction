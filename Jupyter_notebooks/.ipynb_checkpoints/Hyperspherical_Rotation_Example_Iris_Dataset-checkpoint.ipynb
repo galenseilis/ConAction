{
 "cells": [
  {
   "cell_type": "markdown",
   "id": "aeeff536",
   "metadata": {},
   "source": [
    "# Spherical Rotation of Iris Dataset"
   ]
  },
  {
   "cell_type": "markdown",
   "id": "18f32aec",
   "metadata": {},
   "source": [
    "## Import Modules"
   ]
  },
  {
   "cell_type": "code",
   "execution_count": 1,
   "id": "591ee6ca",
   "metadata": {},
   "outputs": [],
   "source": [
    "# standard library\n",
    "from itertools import combinations\n",
    "\n",
    "\n",
    "# 3rd party libraries\n",
    "import matplotlib.pyplot as plt\n",
    "from mpl_toolkits.mplot3d import Axes3D\n",
    "import numpy as np\n",
    "import pandas as pd\n",
    "import seaborn as sns\n",
    "import scipy.interpolate as interp\n",
    "from sklearn.datasets import load_iris\n",
    "from sklearn.model_selection import ParameterGrid\n",
    "import tensorflow as tf\n",
    "import tqdm\n",
    "\n",
    "# conaction library\n",
    "from conaction.estimators import pearson_correlation\n",
    "from conaction.transform import HypersphericalRotation"
   ]
  },
  {
   "cell_type": "markdown",
   "id": "0e6ea372",
   "metadata": {},
   "source": [
    "# Iris Dataset"
   ]
  },
  {
   "cell_type": "code",
   "execution_count": 2,
   "id": "5d82e7a2",
   "metadata": {},
   "outputs": [
    {
     "data": {
      "text/html": [
       "<div>\n",
       "<style scoped>\n",
       "    .dataframe tbody tr th:only-of-type {\n",
       "        vertical-align: middle;\n",
       "    }\n",
       "\n",
       "    .dataframe tbody tr th {\n",
       "        vertical-align: top;\n",
       "    }\n",
       "\n",
       "    .dataframe thead th {\n",
       "        text-align: right;\n",
       "    }\n",
       "</style>\n",
       "<table border=\"1\" class=\"dataframe\">\n",
       "  <thead>\n",
       "    <tr style=\"text-align: right;\">\n",
       "      <th></th>\n",
       "      <th>sepal length (cm)</th>\n",
       "      <th>sepal width (cm)</th>\n",
       "      <th>petal length (cm)</th>\n",
       "      <th>petal width (cm)</th>\n",
       "    </tr>\n",
       "  </thead>\n",
       "  <tbody>\n",
       "    <tr>\n",
       "      <th>count</th>\n",
       "      <td>150.000000</td>\n",
       "      <td>150.000000</td>\n",
       "      <td>150.000000</td>\n",
       "      <td>150.000000</td>\n",
       "    </tr>\n",
       "    <tr>\n",
       "      <th>mean</th>\n",
       "      <td>5.843333</td>\n",
       "      <td>3.057333</td>\n",
       "      <td>3.758000</td>\n",
       "      <td>1.199333</td>\n",
       "    </tr>\n",
       "    <tr>\n",
       "      <th>std</th>\n",
       "      <td>0.828066</td>\n",
       "      <td>0.435866</td>\n",
       "      <td>1.765298</td>\n",
       "      <td>0.762238</td>\n",
       "    </tr>\n",
       "    <tr>\n",
       "      <th>min</th>\n",
       "      <td>4.300000</td>\n",
       "      <td>2.000000</td>\n",
       "      <td>1.000000</td>\n",
       "      <td>0.100000</td>\n",
       "    </tr>\n",
       "    <tr>\n",
       "      <th>25%</th>\n",
       "      <td>5.100000</td>\n",
       "      <td>2.800000</td>\n",
       "      <td>1.600000</td>\n",
       "      <td>0.300000</td>\n",
       "    </tr>\n",
       "    <tr>\n",
       "      <th>50%</th>\n",
       "      <td>5.800000</td>\n",
       "      <td>3.000000</td>\n",
       "      <td>4.350000</td>\n",
       "      <td>1.300000</td>\n",
       "    </tr>\n",
       "    <tr>\n",
       "      <th>75%</th>\n",
       "      <td>6.400000</td>\n",
       "      <td>3.300000</td>\n",
       "      <td>5.100000</td>\n",
       "      <td>1.800000</td>\n",
       "    </tr>\n",
       "    <tr>\n",
       "      <th>max</th>\n",
       "      <td>7.900000</td>\n",
       "      <td>4.400000</td>\n",
       "      <td>6.900000</td>\n",
       "      <td>2.500000</td>\n",
       "    </tr>\n",
       "  </tbody>\n",
       "</table>\n",
       "</div>"
      ],
      "text/plain": [
       "       sepal length (cm)  sepal width (cm)  petal length (cm)  \\\n",
       "count         150.000000        150.000000         150.000000   \n",
       "mean            5.843333          3.057333           3.758000   \n",
       "std             0.828066          0.435866           1.765298   \n",
       "min             4.300000          2.000000           1.000000   \n",
       "25%             5.100000          2.800000           1.600000   \n",
       "50%             5.800000          3.000000           4.350000   \n",
       "75%             6.400000          3.300000           5.100000   \n",
       "max             7.900000          4.400000           6.900000   \n",
       "\n",
       "       petal width (cm)  \n",
       "count        150.000000  \n",
       "mean           1.199333  \n",
       "std            0.762238  \n",
       "min            0.100000  \n",
       "25%            0.300000  \n",
       "50%            1.300000  \n",
       "75%            1.800000  \n",
       "max            2.500000  "
      ]
     },
     "execution_count": 2,
     "metadata": {},
     "output_type": "execute_result"
    }
   ],
   "source": [
    "data_dict = load_iris(as_frame=True)\n",
    "y = [data_dict['target_names'][i] for i in data_dict['target'].to_numpy()]\n",
    "df1 = data_dict['data']\n",
    "df1['species'] = y\n",
    "df1.describe()"
   ]
  },
  {
   "cell_type": "code",
   "execution_count": 5,
   "id": "7a9d8486",
   "metadata": {},
   "outputs": [],
   "source": [
    "# Prepare data for Tensorflow\n",
    "x = data_dict['data'].to_numpy()[:,:-1]\n",
    "x = tf.constant(x, dtype=tf.float64)"
   ]
  },
  {
   "cell_type": "markdown",
   "id": "8bae3df3",
   "metadata": {},
   "source": [
    "## Prepare Hyperspherical Rotation Model"
   ]
  },
  {
   "cell_type": "code",
   "execution_count": 6,
   "id": "7a37dc14",
   "metadata": {},
   "outputs": [],
   "source": [
    "# Instantiate object\n",
    "model = HypersphericalRotation()"
   ]
  },
  {
   "cell_type": "code",
   "execution_count": 7,
   "id": "5908b63d",
   "metadata": {},
   "outputs": [],
   "source": [
    "# Set the initial angles of the data points (and their magnitudes)\n",
    "model.set_angles(x)"
   ]
  },
  {
   "cell_type": "markdown",
   "id": "3020f2ff",
   "metadata": {},
   "source": [
    "## Define a loss function\n",
    "\n",
    "Here we have chosen a loss function to be the following:\n",
    "\n",
    "$$\\mathcal{L}\\left( S \\right) = \\sum_{\\substack{s \\in \\mathcal{P}(S) \\\\ |s| \\not\\in \\{0, 1 \\}}} R(s)^2$$\n",
    "\n",
    "where $S = \\{X_1, \\cdots, X_n \\}$ and $R$ represents the multilinear Pearson correlation coefficient defined as\n",
    "\n",
    "$$R(X_1, \\cdots, X_n) \\triangleq \\frac{\\mathbb{E}\\left[ \\prod_{j=1}^{n} \\left(X_j - \\mathbb{E}\\left[ X_j \\right] \\right) \\right]}{\\prod_{j=1}^{n} \\sqrt[n]{\\mathbb{E}\\left[ |X_j - \\mathbb{E}\\left[ X_j \\right]|^n\\right]}}$$"
   ]
  },
  {
   "cell_type": "code",
   "execution_count": 8,
   "id": "ac09acc9",
   "metadata": {},
   "outputs": [],
   "source": [
    "def loss(X):\n",
    "    '''\n",
    "    Sums of squares of the multilinear Pearson correlation coefficients for every set of variables in the powerset \n",
    "    of variables excluding the empty set and sets of unit cardinality.\n",
    "    \n",
    "    Parameters\n",
    "    ----------\n",
    "    X : tf.tensor\n",
    "        Data matrix\n",
    "    \n",
    "    Returns\n",
    "    -------\n",
    "    result : tf.float\n",
    "        Multilinear correlation loss\n",
    "    '''\n",
    "    result = 0\n",
    "    for size in range(2, X.shape[1]+1):\n",
    "        for comb in combinations(range(X.shape[1]), size):\n",
    "            X_sub = tf.transpose(tf.stack([X[:, i] for i in comb]))\n",
    "            result += pearson_correlation(X_sub)**2\n",
    "    return result"
   ]
  },
  {
   "cell_type": "markdown",
   "id": "12711390",
   "metadata": {},
   "source": [
    "## Gridsearch Over Two Parameters"
   ]
  },
  {
   "cell_type": "code",
   "execution_count": null,
   "id": "e103e992",
   "metadata": {},
   "outputs": [],
   "source": [
    "history = []\n",
    "n = 50\n",
    "for t1 in tqdm.tqdm(np.linspace(0, 2 * np.pi, num=n)):\n",
    "    for t2 in np.linspace(0, 2 * np.pi, num=n):\n",
    "        model.tau = tf.constant([t1, t2] + [0] * int(x.shape[1]-3))\n",
    "        history.append([t1, t2, loss(model(x))])\n",
    "\n",
    "history = np.array(history)\n",
    "X, Y, Z = history.T"
   ]
  },
  {
   "cell_type": "markdown",
   "id": "1dc206b0",
   "metadata": {},
   "source": [
    "## Plot Surface and Contours of Loss Surface"
   ]
  },
  {
   "cell_type": "code",
   "execution_count": null,
   "id": "fd0b9ff3",
   "metadata": {},
   "outputs": [],
   "source": [
    "plotx, ploty, = np.meshgrid(np.linspace(np.min(X),np.max(X),n),\\\n",
    "                       np.linspace(np.min(Y),np.max(Y),n))\n",
    "\n",
    "plotz = interp.griddata((X,Y),Z,(plotx,ploty), method='cubic')\n",
    "\n",
    "fig = plt.figure(figsize=(15, 10), dpi=80)\n",
    "\n",
    "ax1 = fig.add_subplot(121, projection='3d')\n",
    "\n",
    "surface_plot = ax1.plot_surface(plotx, ploty, plotz, cmap='coolwarm')\n",
    "\n",
    "ax1.set_xlabel('$\\\\tau_1$', fontsize=20)\n",
    "\n",
    "ax1.set_ylabel('$\\\\tau_2$', fontsize=20)\n",
    "\n",
    "ax1.set_zlabel('$\\\\mathcal{L}$', fontsize=20)\n",
    "\n",
    "ax2 = fig.add_subplot(122)\n",
    "\n",
    "contour_plot = ax2.contourf(plotx, ploty, plotz, levels=20, cmap='coolwarm')\n",
    "\n",
    "ax2.set_xlabel('$\\\\tau_1$', fontsize=20)\n",
    "\n",
    "ax2.set_ylabel('$\\\\tau_2$', fontsize=20)\n",
    "\n",
    "fig.colorbar(surface_plot, ax=ax1)\n",
    "\n",
    "plt.tight_layout()\n",
    "\n",
    "plt.show()"
   ]
  },
  {
   "cell_type": "markdown",
   "id": "f052cec2",
   "metadata": {},
   "source": [
    "## The Optimal Rotations"
   ]
  },
  {
   "cell_type": "code",
   "execution_count": null,
   "id": "035add8c",
   "metadata": {},
   "outputs": [],
   "source": [
    "index_min = np.argmin(Z)\n",
    "index_max = np.argmax(Z)\n",
    "\n",
    "tau_min = tf.constant([X[index_min], Y[index_min]])\n",
    "tau_max = tf.constant([X[index_max], Y[index_max]])"
   ]
  },
  {
   "cell_type": "code",
   "execution_count": null,
   "id": "031ef2dd",
   "metadata": {},
   "outputs": [],
   "source": []
  },
  {
   "cell_type": "code",
   "execution_count": null,
   "id": "49dbb08a",
   "metadata": {},
   "outputs": [],
   "source": [
    "##tol = 1e-6\n",
    "##best_loss = np.inf\n",
    "##best_params = {}\n",
    "##param_grid = {i:np.linspace(0, 2*np.pi,num=10) for i in range(x.shape[1]-1)}\n",
    "##\n",
    "##for grid in ParameterGrid(param_grid):\n",
    "##    point = [i for i in grid.values()]\n",
    "##    model.tau = tf.constant(point, dtype=tf.float64)\n",
    "##    if loss(model(x).numpy()) < best_loss:\n",
    "##        best_loss = loss(model(x).numpy())\n",
    "##        best_params = point\n",
    "##        print(point, loss(model(x).numpy()))\n",
    "##model.tau = tf.constant(best_params, dtype=tf.float64)\n",
    "##\n",
    "##df2 = pd.DataFrame(model(x).numpy())\n",
    "##df2['species'] = y\n",
    "##df2 = df2.rename(columns={i:f'Rot({j})' for i,j in zip(range(5), df1.columns)})\n",
    "##\n",
    "##sns.pairplot(df1, hue='species')\n",
    "##sns.pairplot(df2, hue='species')\n",
    "##plt.show()\n",
    "    \n",
    "    \n",
    "##    plt.plot(history.history['loss'])\n",
    "##    plt.show()\n",
    "##    plt.close()\n",
    "##    for t in weights.T:\n",
    "##        plt.plot(t)\n",
    "##        plt.show()\n",
    "##        plt.close()"
   ]
  }
 ],
 "metadata": {
  "kernelspec": {
   "display_name": "Python 3 (ipykernel)",
   "language": "python",
   "name": "python3"
  },
  "language_info": {
   "codemirror_mode": {
    "name": "ipython",
    "version": 3
   },
   "file_extension": ".py",
   "mimetype": "text/x-python",
   "name": "python",
   "nbconvert_exporter": "python",
   "pygments_lexer": "ipython3",
   "version": "3.10.5"
  }
 },
 "nbformat": 4,
 "nbformat_minor": 5
}
